{
 "cells": [
  {
   "cell_type": "code",
   "execution_count": 63,
   "metadata": {},
   "outputs": [],
   "source": [
    "import os\n",
    "import sys"
   ]
  },
  {
   "cell_type": "code",
   "execution_count": 15,
   "metadata": {},
   "outputs": [],
   "source": [
    "f=open(\"/home/lld/Downloads/processing/cope1_xml.txt\",'r')\n",
    "tmp=f.read()\n",
    "f.close()\n",
    "x=\"\""
   ]
  },
  {
   "cell_type": "code",
   "execution_count": 28,
   "metadata": {},
   "outputs": [],
   "source": [
    "# extract brain structure from xml file\n",
    "x=tmp.split('</BrainModel>')  \n",
    "for i in range (0,len(x)):\n",
    "    str1=str(i)\n",
    "    f2=open(\"/home/lld/Downloads/processing/\"+\"BrainModel\"+ str1 +\".txt\",'w')\n",
    "    f2.write(x[i])\n",
    "    f2.close()"
   ]
  },
  {
   "cell_type": "code",
   "execution_count": 49,
   "metadata": {},
   "outputs": [],
   "source": [
    "# get surface map vertex position data from surface model\n",
    "# left brain surface\n",
    "x=\"\"\n",
    "f0=open(\"/home/lld/Downloads/processing/BrainModel/Surface/BrainModel0.txt\",'r')\n",
    "tmp0=f0.read()\n",
    "f0.close()\n",
    "x=tmp0.split('<VertexIndices>')[1].split('</VertexIndices>')[0]\n",
    "g0=open(\"/home/lld/Downloads/processing/BrainModel/Surface/ModelData0.txt\",'w')\n",
    "g0.write(x)\n",
    "g0.close()\n",
    "x=\"\"\n",
    "# right brain surface\n",
    "f1=open(\"/home/lld/Downloads/processing/BrainModel/Surface/BrainModel1.txt\",'r')\n",
    "tmp1=f1.read()\n",
    "f1.close()\n",
    "x=tmp1.split('<VertexIndices>')[1].split('</VertexIndices>')[0]\n",
    "g1=open(\"/home/lld/Downloads/processing/BrainModel/Surface/ModelData1.txt\",'w')\n",
    "g1.write(x)\n",
    "g1.close()\n",
    "x=\"\""
   ]
  },
  {
   "cell_type": "code",
   "execution_count": 70,
   "metadata": {},
   "outputs": [],
   "source": [
    "# change all surface data into one colume\n",
    "x=\"\"\n",
    "y=\"\"\n",
    "f1=open(\"/home/lld/Downloads/processing/BrainModel/Surface/ModelData0.txt\",'r')\n",
    "tmp1=f1.read()\n",
    "f1.close()\n",
    "x=tmp1.replace(\" \",\"\\n\")\n",
    "\n",
    "f1=open(\"/home/lld/Downloads/processing/BrainModel/Surface/ModelData1.txt\",'r')\n",
    "tmp2=f1.read()\n",
    "f1.close()\n",
    "y=tmp2.replace(\" \",\"\\n\")\n",
    "\n",
    "z=x + \"\\n\" + y\n",
    "f1=open(\"/home/lld/Downloads/processing/BrainModel/Surface/AllSurfaceData.txt\",'w')\n",
    "f1.write(z)\n",
    "f1.close()"
   ]
  },
  {
   "cell_type": "code",
   "execution_count": 72,
   "metadata": {},
   "outputs": [],
   "source": [
    "# get volume voxel position information \n",
    "# volume index from brainmodel 2 to brainmodel 20, total number is 19\n",
    "for i in range (2,21):      # i : (2) to (21-1=20)\n",
    "    x=\"\"\n",
    "    tmpName=str(i)\n",
    "    f=open(\"/home/lld/Downloads/processing/BrainModel/Volume/BrainModel\" + tmpName +\".txt\",\"r\")\n",
    "    tmpData=f.read()\n",
    "    f.close()\n",
    "    x=tmpData.split('<VoxelIndicesIJK>')[1].split('</VoxelIndicesIJK>')[0]\n",
    "    f=open(\"/home/lld/Downloads/processing/BrainModel/Volume/ModelData\" + tmpName +\".txt\",\"w\")\n",
    "    f.write(x)\n",
    "    f.close()"
   ]
  },
  {
   "cell_type": "code",
   "execution_count": 73,
   "metadata": {},
   "outputs": [],
   "source": [
    "# save all voxel data into one file \n",
    "x=\"\"\n",
    "for i in range (2,21):    # i : (2) to (21-1=20)\n",
    "    tmpName=str(i)\n",
    "    f=open(\"/home/lld/Downloads/processing/BrainModel/Volume/ModelData\" + tmpName +\".txt\",\"r\")\n",
    "    tmpData=f.read()\n",
    "    f.close()\n",
    "    x=x+tmpData\n",
    "f=open(\"/home/lld/Downloads/processing/BrainModel/Volume/AllVoexlData.txt\",\"w\")\n",
    "f.write(x)\n",
    "f.close()"
   ]
  },
  {
   "cell_type": "code",
   "execution_count": null,
   "metadata": {},
   "outputs": [],
   "source": []
  }
 ],
 "metadata": {
  "kernelspec": {
   "display_name": "Python 3",
   "language": "python",
   "name": "python3"
  },
  "language_info": {
   "codemirror_mode": {
    "name": "ipython",
    "version": 3
   },
   "file_extension": ".py",
   "mimetype": "text/x-python",
   "name": "python",
   "nbconvert_exporter": "python",
   "pygments_lexer": "ipython3",
   "version": "3.7.6"
  }
 },
 "nbformat": 4,
 "nbformat_minor": 4
}
