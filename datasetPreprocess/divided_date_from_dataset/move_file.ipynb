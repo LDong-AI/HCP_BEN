{
 "cells": [
  {
   "cell_type": "code",
   "execution_count": 23,
   "metadata": {},
   "outputs": [],
   "source": [
    "import os\n",
    "def move_file ( filedir, name ): # 第一个参数，原始数据保存路径。第二个参数是区别不同文件的关键词，同时也是该类文件保存地址。\n",
    "    os.system('mkdir ' + filedir + '/'+ name)\n",
    "    n=0  # 符合某关键词的文件数量\n",
    "    m=0  # 成功拷贝的文件数量，如果程序正确运行的话，结果n=m\n",
    "    txtName= name +'.txt'\n",
    "    f=open(txtName,\"w\")\n",
    "    tmp=\"\"\n",
    "    for root ,dirs ,files in os.walk(filedir):\n",
    "        for file_single in files:\n",
    "            if name in file_single:\n",
    "                tmp=tmp+file_single + '\\n'\n",
    "                n=n+1\n",
    "    f.write(tmp)\n",
    "    f.close()\n",
    "    f=open(txtName,\"r\")\n",
    "    DL_list=f.readlines()\n",
    "    f.close()\n",
    "    for i in range (0,len(DL_list)):\n",
    "        DL_list[i]=DL_list[i].rstrip('\\n')\n",
    "        os.system(\"mv \" + filedir + '/' + DL_list[i] + \" \" + filedir + \"/\" + name)\n",
    "        m=m+1\n",
    "    print(\"moving files number:\",n)\n",
    "    print(\"success moving:\",m)\n",
    "    return"
   ]
  },
  {
   "cell_type": "code",
   "execution_count": 19,
   "metadata": {},
   "outputs": [
    {
     "name": "stdout",
     "output_type": "stream",
     "text": [
      "moving files number: 920\n",
      "success moving: 920\n"
     ]
    }
   ],
   "source": [
    "move_file(\"/home/lld/Downloads/HCP/BEN_data/UBEN\",\"REST1\")"
   ]
  },
  {
   "cell_type": "code",
   "execution_count": 20,
   "metadata": {},
   "outputs": [
    {
     "name": "stdout",
     "output_type": "stream",
     "text": [
      "moving files number: 1023\n",
      "success moving: 1023\n"
     ]
    }
   ],
   "source": [
    "move_file(\"/home/lld/Downloads/HCP/BEN_data/UBEN\",\"REST2\")"
   ]
  },
  {
   "cell_type": "code",
   "execution_count": 25,
   "metadata": {},
   "outputs": [
    {
     "name": "stdout",
     "output_type": "stream",
     "text": [
      "moving files number: 864\n",
      "success moving: 864\n"
     ]
    }
   ],
   "source": [
    "move_file(\"/home/lld/Downloads/HCP/BEN_data/fALFF\",\"Z\")"
   ]
  },
  {
   "cell_type": "code",
   "execution_count": null,
   "metadata": {},
   "outputs": [],
   "source": []
  }
 ],
 "metadata": {
  "kernelspec": {
   "display_name": "Python 3",
   "language": "python",
   "name": "python3"
  },
  "language_info": {
   "codemirror_mode": {
    "name": "ipython",
    "version": 3
   },
   "file_extension": ".py",
   "mimetype": "text/x-python",
   "name": "python",
   "nbconvert_exporter": "python",
   "pygments_lexer": "ipython3",
   "version": "3.7.6"
  }
 },
 "nbformat": 4,
 "nbformat_minor": 4
}
