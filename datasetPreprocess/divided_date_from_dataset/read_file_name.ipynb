{
 "cells": [
  {
   "cell_type": "code",
   "execution_count": 74,
   "metadata": {},
   "outputs": [],
   "source": [
    "import os"
   ]
  },
  {
   "cell_type": "code",
   "execution_count": 75,
   "metadata": {},
   "outputs": [],
   "source": [
    "def extract_filename( str ):  # str=原始数据地址\n",
    "    tmp=str.split('/')\n",
    "    tmp=tmp[-1]\n",
    "    txtName = tmp + \".txt\"\n",
    "    f=open(txtName, \"w\")\n",
    "    dire= str\n",
    "    for root ,dirs, files in os.walk(dire):\n",
    "        for file_single in files:\n",
    "            test=file_single\n",
    "            result = test +'\\n'\n",
    "            f.write(result)\n",
    "    f.close()\n",
    "    return"
   ]
  },
  {
   "cell_type": "code",
   "execution_count": 76,
   "metadata": {},
   "outputs": [],
   "source": [
    "extract_filename(\"/home/lld/Downloads/HCP/BEN_data/UBEN\")"
   ]
  },
  {
   "cell_type": "code",
   "execution_count": 77,
   "metadata": {},
   "outputs": [],
   "source": [
    "extract_filename(\"/home/lld/Downloads/HCP/BEN_data/fALFF\")"
   ]
  },
  {
   "cell_type": "code",
   "execution_count": null,
   "metadata": {},
   "outputs": [],
   "source": []
  }
 ],
 "metadata": {
  "kernelspec": {
   "display_name": "Python 3",
   "language": "python",
   "name": "python3"
  },
  "language_info": {
   "codemirror_mode": {
    "name": "ipython",
    "version": 3
   },
   "file_extension": ".py",
   "mimetype": "text/x-python",
   "name": "python",
   "nbconvert_exporter": "python",
   "pygments_lexer": "ipython3",
   "version": "3.7.6"
  }
 },
 "nbformat": 4,
 "nbformat_minor": 4
}
